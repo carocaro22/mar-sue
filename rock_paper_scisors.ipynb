{
 "cells": [
  {
   "cell_type": "markdown",
   "metadata": {},
   "source": [
    "The first attempt is to make the computer generates all outputs randomly and analysing the win rate of the computer. This is the control group. The objective is to get win rates higher than if all is choosen at random.  "
   ]
  },
  {
   "cell_type": "code",
   "execution_count": 2,
   "metadata": {},
   "outputs": [],
   "source": [
    "import random\n",
    "from enum import Enum\n",
    "import pandas as pd\n",
    "import numpy as np"
   ]
  },
  {
   "cell_type": "code",
   "execution_count": 3,
   "metadata": {},
   "outputs": [],
   "source": [
    "df = pd.read_csv('data.csv')\n",
    "\n",
    "class Result(Enum):\n",
    "    Win = [1, 0, 0]\n",
    "    Lost = [0, 1, 0]\n",
    "    Tie = [0, 0, 1]\n",
    "\n",
    "class Pick(Enum): \n",
    "    Paper = [1, 0, 0]\n",
    "    Rock = [0, 1, 0]\n",
    "    Scissors = [0, 0, 1]"
   ]
  },
  {
   "cell_type": "markdown",
   "metadata": {},
   "source": [
    "#### Evaluate WinRate of raw data"
   ]
  },
  {
   "cell_type": "code",
   "execution_count": null,
   "metadata": {},
   "outputs": [],
   "source": [
    "def play(human, computer, verbose = False): \n",
    "    total, won, lost = 0, 0, 0\n",
    "    results = []\n",
    "    for i in range (0, len(df)):\n",
    "        match human[i]: \n",
    "            case 'R': \n",
    "                match computer[i]: \n",
    "                    case 'P': \n",
    "                        total += 1\n",
    "                        won += 1\n",
    "                        results.append(Result.Win.value)\n",
    "                    case 'S': \n",
    "                        total += 1\n",
    "                        lost += 1\n",
    "                        results.append(Result.Lost.value)\n",
    "                    case 'R':\n",
    "                        results.append(Result.Tie.value)\n",
    "            case 'P':\n",
    "                match computer[i]: \n",
    "                    case 'S': \n",
    "                        total += 1\n",
    "                        won += 1\n",
    "                        results.append(Result.Win.value)\n",
    "                    case 'R': \n",
    "                        total += 1\n",
    "                        lost += 1\n",
    "                        results.append(Result.Lost.value)\n",
    "                    case 'P':\n",
    "                        results.append(Result.Tie.value)\n",
    "            case 'S': \n",
    "                match computer[i]: \n",
    "                    case 'P': \n",
    "                        total += 1\n",
    "                        lost += 1\n",
    "                        results.append(Result.Lost.value)\n",
    "                    case 'R': \n",
    "                        total += 1\n",
    "                        won += 1\n",
    "                        results.append(Result.Win.value)\n",
    "                    case 'S':\n",
    "                        results.append(Result.Tie.value)\n",
    "    if (verbose): \n",
    "        # evaluation: \n",
    "        print(f\"Total games: {total}\")\n",
    "        print(f\"Won: {won}\")\n",
    "        print(f\"Lost: {lost}\")\n",
    "        print(f\"Win rate: {won/total*100}%\")\n",
    "\n",
    "    # winrate and the results array\n",
    "    return won/total, results\n",
    "\n"
   ]
  },
  {
   "cell_type": "code",
   "execution_count": 41,
   "metadata": {},
   "outputs": [
    {
     "name": "stdout",
     "output_type": "stream",
     "text": [
      "0.65625\n",
      "0.375\n",
      "0.3076923076923077\n",
      "0.35714285714285715\n",
      "0.4583333333333333\n",
      "0.52\n"
     ]
    }
   ],
   "source": [
    "for i in range(1, 7):\n",
    "    print(play(df[f'H{i}'], df[f'C{i}'])[0])\n"
   ]
  },
  {
   "cell_type": "markdown",
   "metadata": {},
   "source": [
    "#### Create Tensor for One round"
   ]
  },
  {
   "cell_type": "code",
   "execution_count": 8,
   "metadata": {},
   "outputs": [
    {
     "data": {
      "text/plain": [
       "[1, 0, 0, 0, 1, 0]"
      ]
     },
     "execution_count": 8,
     "metadata": {},
     "output_type": "execute_result"
    }
   ],
   "source": [
    "Pick.Paper.value + Pick.Rock.value"
   ]
  },
  {
   "cell_type": "code",
   "execution_count": null,
   "metadata": {},
   "outputs": [],
   "source": [
    "def play(human, computer, verbose = False): \n",
    "    for i in range (0, len(df)):\n",
    "        match human[i]: \n",
    "            case 'R': \n",
    "                match computer[i]: \n",
    "                    case 'P': \n",
    "                        return Pick.Rock.Value + Pick.Paper.Value\n",
    "                    case 'S': \n",
    "                        return Pick.Rock.Value + Pick.Scissors.Value\n",
    "                    case 'R':\n",
    "                        return Pick.Rock.Value + Pick.Rock.Value\n",
    "            case 'P':\n",
    "                match computer[i]: \n",
    "                    case 'S': \n",
    "                        return Pick.Paper.Value + Pick.Scissors.Value\n",
    "                    case 'R': \n",
    "                        return Pick.Paper.Value + Pick.Rock.Value\n",
    "                    case 'P':\n",
    "                        return Pick.Paper.Value + Pick.Paper.Value\n",
    "            case 'S': \n",
    "                match computer[i]: \n",
    "                    case 'P': \n",
    "                        return Pick.Scissors.Value + Pick.Paper.Value\n",
    "                    case 'R': \n",
    "                        return Pick.Scissors.Value + Pick.Rock.Value\n",
    "                    case 'S':\n",
    "                        return Pick.Scissors.Value + Pick.Scissors.Value\n",
    "    \n",
    "    if verbose:\n",
    "        # evaluation: \n",
    "        print(f\"Total games: {total}\")\n",
    "        print(f\"Won: {won}\")\n",
    "        print(f\"Lost: {lost}\")\n",
    "        print(f\"Win rate: {won/total*100}%\")\n",
    "        \n",
    "    # winrate and the results array\n",
    "    return won/total, results\n",
    "\n",
    "\n"
   ]
  }
 ],
 "metadata": {
  "kernelspec": {
   "display_name": ".env",
   "language": "python",
   "name": "python3"
  },
  "language_info": {
   "codemirror_mode": {
    "name": "ipython",
    "version": 3
   },
   "file_extension": ".py",
   "mimetype": "text/x-python",
   "name": "python",
   "nbconvert_exporter": "python",
   "pygments_lexer": "ipython3",
   "version": "3.12.3"
  }
 },
 "nbformat": 4,
 "nbformat_minor": 2
}
