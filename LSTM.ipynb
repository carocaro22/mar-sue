{
 "cells": [
  {
   "cell_type": "markdown",
   "metadata": {},
   "source": [
    "# Rock, Paper, Scissors"
   ]
  },
  {
   "cell_type": "markdown",
   "metadata": {},
   "source": [
    "## Imports"
   ]
  },
  {
   "cell_type": "code",
   "execution_count": 181,
   "metadata": {},
   "outputs": [],
   "source": [
    "import pandas as pd\n",
    "from sklearn.preprocessing import LabelEncoder\n",
    "import numpy as np\n",
    "from sklearn.model_selection import train_test_split\n",
    "from keras.models import Sequential\n",
    "from keras.layers import LSTM, Dropout, Dense\n",
    "from keras.callbacks import TensorBoard\n",
    "from keras.utils import to_categorical\n",
    "import datetime"
   ]
  },
  {
   "cell_type": "markdown",
   "metadata": {},
   "source": [
    "## Verbose\n",
    "If this flag is set to true, cells will give more detailed output"
   ]
  },
  {
   "cell_type": "code",
   "execution_count": 182,
   "metadata": {},
   "outputs": [],
   "source": [
    "verbose = False"
   ]
  },
  {
   "cell_type": "markdown",
   "metadata": {},
   "source": [
    "## Read csv"
   ]
  },
  {
   "cell_type": "code",
   "execution_count": 183,
   "metadata": {},
   "outputs": [],
   "source": [
    "data = pd.read_csv('/home/carol/Documents/Master/3_Semester/Anwendung der KI/Project/data.csv')\n",
    "if verbose:\n",
    "    print(data.head())"
   ]
  },
  {
   "cell_type": "markdown",
   "metadata": {},
   "source": [
    "## Transforming the data into numerical values"
   ]
  },
  {
   "cell_type": "code",
   "execution_count": 184,
   "metadata": {},
   "outputs": [],
   "source": [
    "# P = 0; R = 1; S = 2\n",
    "label_encoder = LabelEncoder()\n",
    "for column in data.columns:\n",
    "    data[column] = label_encoder.fit_transform(data[column])\n",
    "\n",
    "if verbose: \n",
    "    print(data.head())  \n"
   ]
  },
  {
   "cell_type": "markdown",
   "metadata": {},
   "source": [
    "## Making input and Output \n",
    "- The input data is an array with the picks of the player and the computer in the last n rounds. The amount of rounds if the defined in the variable sequence_length\n",
    "- The output data, what the computer is trying to guess, is the next human pick."
   ]
  },
  {
   "cell_type": "code",
   "execution_count": 185,
   "metadata": {},
   "outputs": [],
   "source": [
    "sequence_length = 3\n",
    "X = []\n",
    "y = []\n",
    "\n",
    "for i in range(len(data) - sequence_length):\n",
    "    X.append(data[['H1', 'C1']].iloc[i:i+sequence_length].values)\n",
    "    y.append(data['H1'].iloc[i + sequence_length])\n",
    "\n",
    "X = np.array(X)\n",
    "y = np.array(y)\n",
    "\n",
    "if verbose:\n",
    "    print(X[0])\n",
    "    print(y[0])\n",
    "    print(X[1])\n",
    "    print(y[1])\n",
    "    print(X[2])\n",
    "    print(y[2])\n"
   ]
  },
  {
   "cell_type": "markdown",
   "metadata": {},
   "source": [
    "## Spliting the data into train and test set"
   ]
  },
  {
   "cell_type": "code",
   "execution_count": 186,
   "metadata": {},
   "outputs": [],
   "source": [
    "X_train, X_test, y_train, y_test = train_test_split(X, y, test_size=0.2, random_state=42)"
   ]
  },
  {
   "cell_type": "markdown",
   "metadata": {},
   "source": [
    "## Changing the output data to hot encoding"
   ]
  },
  {
   "cell_type": "code",
   "execution_count": 187,
   "metadata": {},
   "outputs": [],
   "source": [
    "output_dim = len(label_encoder.classes_)\n",
    "y_train = to_categorical(y_train, num_classes=output_dim)\n",
    "y_test = to_categorical(y_test, num_classes=output_dim)\n",
    "\n",
    "if verbose:\n",
    "    print(y_train[0])"
   ]
  },
  {
   "cell_type": "markdown",
   "metadata": {},
   "source": [
    "## Tune the Model"
   ]
  },
  {
   "cell_type": "code",
   "execution_count": 188,
   "metadata": {},
   "outputs": [
    {
     "name": "stdout",
     "output_type": "stream",
     "text": [
      "input_dim: 2\n",
      "timestep_length: 3\n"
     ]
    }
   ],
   "source": [
    "hiddenUnits = 10\n",
    "stackLSTM = False # The model will include Dropout and hiddenUnits layers if True\n",
    "dropout = 0.1\n",
    "input_dim = X_train.shape[2] # Human and Computer\n",
    "timestep_length = X_train.shape[1] # 5 last rounds\n",
    "if not verbose: \n",
    "    print(f'input_dim: {input_dim}')\n",
    "    print(f'timestep_length: {timestep_length}')"
   ]
  },
  {
   "cell_type": "code",
   "execution_count": 189,
   "metadata": {},
   "outputs": [
    {
     "name": "stderr",
     "output_type": "stream",
     "text": [
      "/home/carol/Documents/Master/3_Semester/Anwendung der KI/Project/.env/lib/python3.12/site-packages/keras/src/layers/rnn/rnn.py:200: UserWarning: Do not pass an `input_shape`/`input_dim` argument to a layer. When using Sequential models, prefer using an `Input(shape)` object as the first layer in the model instead.\n",
      "  super().__init__(**kwargs)\n"
     ]
    }
   ],
   "source": [
    "model = Sequential()\n",
    "model.add(LSTM(hiddenUnits, return_sequences=stackLSTM, input_shape=(timestep_length, input_dim)))\n",
    "if stackLSTM:\n",
    "    model.add(Dropout(dropout))\n",
    "    model.add(LSTM(hiddenUnits))\n",
    "model.add(Dropout(dropout))\n",
    "model.add(Dense(output_dim, activation='softmax'))"
   ]
  },
  {
   "cell_type": "markdown",
   "metadata": {},
   "source": [
    "## Train"
   ]
  },
  {
   "cell_type": "code",
   "execution_count": 190,
   "metadata": {},
   "outputs": [
    {
     "data": {
      "text/plain": [
       "<keras.src.callbacks.history.History at 0x7e89f176f440>"
      ]
     },
     "execution_count": 190,
     "metadata": {},
     "output_type": "execute_result"
    }
   ],
   "source": [
    "now = datetime.datetime.now().strftime(\"%Y%m%d-%H%M%S\")\n",
    "tbCallBack = TensorBoard(log_dir='./logs/' + now, histogram_freq=1, write_graph=True, write_images=False)\n",
    "\n",
    "showProgress = 0\n",
    "if verbose: \n",
    "    showProgress = 2\n",
    "\n",
    "model.compile(loss='categorical_crossentropy')\n",
    "model.fit(\n",
    "    X_train,\n",
    "    y_train,\n",
    "    epochs=20,\n",
    "    batch_size=32,\n",
    "    verbose=showProgress,\n",
    "    validation_split=0.2,\n",
    "    callbacks=[tbCallBack]\n",
    ")\n"
   ]
  },
  {
   "cell_type": "markdown",
   "metadata": {},
   "source": [
    "## Evaluate the Model"
   ]
  },
  {
   "cell_type": "code",
   "execution_count": null,
   "metadata": {},
   "outputs": [
    {
     "name": "stdout",
     "output_type": "stream",
     "text": [
      "\u001b[1m1/1\u001b[0m \u001b[32m━━━━━━━━━━━━━━━━━━━━\u001b[0m\u001b[37m\u001b[0m \u001b[1m0s\u001b[0m 41ms/step - loss: 1.1091\n",
      "1.1091113090515137\n"
     ]
    }
   ],
   "source": [
    "loss = model.evaluate(X_test, y_test)\n",
    "print(loss)"
   ]
  },
  {
   "cell_type": "markdown",
   "metadata": {},
   "source": [
    "## Predict the Next Move"
   ]
  },
  {
   "cell_type": "code",
   "execution_count": 192,
   "metadata": {},
   "outputs": [
    {
     "name": "stdout",
     "output_type": "stream",
     "text": [
      "\u001b[1m1/1\u001b[0m \u001b[32m━━━━━━━━━━━━━━━━━━━━\u001b[0m\u001b[37m\u001b[0m \u001b[1m0s\u001b[0m 109ms/step\n",
      "Predicted next move: S\n"
     ]
    }
   ],
   "source": [
    "new_moves = np.array([[[label_encoder.transform(['R'])[0], label_encoder.transform(['P'])[0]],\n",
    "                       [label_encoder.transform(['P'])[0], label_encoder.transform(['R'])[0]],\n",
    "                       [label_encoder.transform(['S'])[0], label_encoder.transform(['S'])[0]]]])  # Replace with actual new moves\n",
    "predicted_move = model.predict(new_moves)\n",
    "predicted_move = label_encoder.inverse_transform([np.argmax(predicted_move)])\n",
    "print(f'Predicted next move: {predicted_move[0]}')"
   ]
  },
  {
   "cell_type": "markdown",
   "metadata": {},
   "source": [
    "## Determine the counter move for the computer"
   ]
  },
  {
   "cell_type": "markdown",
   "metadata": {},
   "source": [
    "### Function Implementation"
   ]
  },
  {
   "cell_type": "code",
   "execution_count": 193,
   "metadata": {},
   "outputs": [],
   "source": [
    "def counter_move(player_move):\n",
    "    if player_move == 'R':\n",
    "        return 'P'  # Paper beats Rock\n",
    "    elif player_move == 'P':\n",
    "        return 'S'  # Scissors beats Paper\n",
    "    elif player_move == 'S':\n",
    "        return 'R'  # Rock beats Scissors"
   ]
  },
  {
   "cell_type": "markdown",
   "metadata": {},
   "source": [
    "### Function Call"
   ]
  },
  {
   "cell_type": "code",
   "execution_count": 194,
   "metadata": {},
   "outputs": [
    {
     "name": "stdout",
     "output_type": "stream",
     "text": [
      "Computer should play: R\n"
     ]
    }
   ],
   "source": [
    "computer_move = counter_move(predicted_move[0])\n",
    "print(f'Computer should play: {computer_move}')"
   ]
  }
 ],
 "metadata": {
  "kernelspec": {
   "display_name": ".env",
   "language": "python",
   "name": "python3"
  },
  "language_info": {
   "codemirror_mode": {
    "name": "ipython",
    "version": 3
   },
   "file_extension": ".py",
   "mimetype": "text/x-python",
   "name": "python",
   "nbconvert_exporter": "python",
   "pygments_lexer": "ipython3",
   "version": "3.12.3"
  }
 },
 "nbformat": 4,
 "nbformat_minor": 2
}
