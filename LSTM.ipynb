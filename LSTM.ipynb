{
 "cells": [
  {
   "cell_type": "markdown",
   "metadata": {},
   "source": [
    "# Rock, Paper, Scissors"
   ]
  },
  {
   "cell_type": "markdown",
   "metadata": {},
   "source": [
    "## Imports"
   ]
  },
  {
   "cell_type": "code",
   "execution_count": 18,
   "metadata": {},
   "outputs": [],
   "source": [
    "import pandas as pd\n",
    "from sklearn.preprocessing import LabelEncoder\n",
    "import numpy as np\n",
    "from sklearn.model_selection import train_test_split\n",
    "from keras.models import Sequential\n",
    "from keras.layers import LSTM, Dropout, Dense\n",
    "from keras.callbacks import TensorBoard\n",
    "from keras.utils import to_categorical\n",
    "import datetime"
   ]
  },
  {
   "cell_type": "markdown",
   "metadata": {},
   "source": [
    "## Verbose\n",
    "If this flag is set to true, cells will give more detailed output"
   ]
  },
  {
   "cell_type": "code",
   "execution_count": 19,
   "metadata": {},
   "outputs": [],
   "source": [
    "verbose = True"
   ]
  },
  {
   "cell_type": "markdown",
   "metadata": {},
   "source": [
    "## Read csv"
   ]
  },
  {
   "cell_type": "code",
   "execution_count": 20,
   "metadata": {},
   "outputs": [
    {
     "name": "stdout",
     "output_type": "stream",
     "text": [
      "  C1 H1 C2 H2 C3 H3 C4 H4 C5 H5 C6 H6\n",
      "0  P  R  P  S  R  R  P  S  S  S  S  S\n",
      "1  R  R  R  R  S  R  R  R  P  R  R  S\n",
      "2  S  S  S  S  S  R  S  S  P  R  S  S\n",
      "3  P  S  R  S  P  R  P  S  S  S  S  S\n",
      "4  R  R  S  R  R  R  R  S  R  S  P  R\n"
     ]
    }
   ],
   "source": [
    "data = pd.read_csv('/home/carol/Documents/Master/3_Semester/Anwendung der KI/Project/data.csv')\n",
    "if verbose:\n",
    "    print(data.head())"
   ]
  },
  {
   "cell_type": "markdown",
   "metadata": {},
   "source": [
    "## Transforming the data into numerical values"
   ]
  },
  {
   "cell_type": "code",
   "execution_count": 21,
   "metadata": {},
   "outputs": [
    {
     "name": "stdout",
     "output_type": "stream",
     "text": [
      "   C1  H1  C2  H2  C3  H3  C4  H4  C5  H5  C6  H6\n",
      "0   0   1   0   2   1   1   0   2   2   2   2   2\n",
      "1   1   1   1   1   2   1   1   1   0   1   1   2\n",
      "2   2   2   2   2   2   1   2   2   0   1   2   2\n",
      "3   0   2   1   2   0   1   0   2   2   2   2   2\n",
      "4   1   1   2   1   1   1   1   2   1   2   0   1\n"
     ]
    }
   ],
   "source": [
    "# P = 0; R = 1; S = 2\n",
    "label_encoder = LabelEncoder()\n",
    "for column in data.columns:\n",
    "    data[column] = label_encoder.fit_transform(data[column])\n",
    "\n",
    "if verbose: \n",
    "    print(data.head())  \n"
   ]
  },
  {
   "cell_type": "markdown",
   "metadata": {},
   "source": [
    "## Making input and Output \n",
    "- The input data is an array with the picks of the player and the computer in the last n rounds. The amount of rounds if the defined in the variable sequence_length\n",
    "- The output data, what the computer is trying to guess, is the next human pick."
   ]
  },
  {
   "cell_type": "code",
   "execution_count": 22,
   "metadata": {},
   "outputs": [
    {
     "name": "stdout",
     "output_type": "stream",
     "text": [
      "[[1 0]\n",
      " [1 1]\n",
      " [2 2]]\n",
      "2\n",
      "[[1 1]\n",
      " [2 2]\n",
      " [2 0]]\n",
      "1\n",
      "[[2 2]\n",
      " [2 0]\n",
      " [1 1]]\n",
      "2\n"
     ]
    }
   ],
   "source": [
    "sequence_length = 3\n",
    "data_number = 1\n",
    "X = []\n",
    "y = []\n",
    "\n",
    "for i in range(len(data) - sequence_length):\n",
    "    X.append(data[[f'H{data_number}', f'C{data_number}']].iloc[i:i+sequence_length].values)\n",
    "    y.append(data['H1'].iloc[i + sequence_length])\n",
    "\n",
    "X = np.array(X)\n",
    "y = np.array(y)\n",
    "\n",
    "if verbose:\n",
    "    print(X[0])\n",
    "    print(y[0])\n",
    "    print(X[1])\n",
    "    print(y[1])\n",
    "    print(X[2])\n",
    "    print(y[2])\n"
   ]
  },
  {
   "cell_type": "markdown",
   "metadata": {},
   "source": [
    "## Spliting the data into train and test set"
   ]
  },
  {
   "cell_type": "code",
   "execution_count": 23,
   "metadata": {},
   "outputs": [],
   "source": [
    "X_train, X_test, y_train, y_test = train_test_split(X, y, test_size=0.2, random_state=42)"
   ]
  },
  {
   "cell_type": "markdown",
   "metadata": {},
   "source": [
    "## Changing the output data to hot encoding"
   ]
  },
  {
   "cell_type": "code",
   "execution_count": 24,
   "metadata": {},
   "outputs": [
    {
     "name": "stdout",
     "output_type": "stream",
     "text": [
      "[0. 0. 1.]\n"
     ]
    }
   ],
   "source": [
    "output_dim = len(label_encoder.classes_)\n",
    "y_train = to_categorical(y_train, num_classes=output_dim)\n",
    "y_test = to_categorical(y_test, num_classes=output_dim)\n",
    "\n",
    "if verbose:\n",
    "    print(y_train[0])"
   ]
  },
  {
   "cell_type": "markdown",
   "metadata": {},
   "source": [
    "## Tune the Model"
   ]
  },
  {
   "cell_type": "code",
   "execution_count": 25,
   "metadata": {},
   "outputs": [
    {
     "name": "stdout",
     "output_type": "stream",
     "text": [
      "input_dim: 2\n",
      "timestep_length: 3\n"
     ]
    }
   ],
   "source": [
    "hiddenUnits = 10\n",
    "stackLSTM = True # The model will include Dropout and hiddenUnits layers if True\n",
    "dropout = 0.2\n",
    "input_dim = X_train.shape[2] # Human and Computer\n",
    "timestep_length = X_train.shape[1] # 5 last rounds\n",
    "if verbose: \n",
    "    print(f'input_dim: {input_dim}')\n",
    "    print(f'timestep_length: {timestep_length}')"
   ]
  },
  {
   "cell_type": "code",
   "execution_count": 26,
   "metadata": {},
   "outputs": [
    {
     "name": "stderr",
     "output_type": "stream",
     "text": [
      "/home/carol/Documents/Master/3_Semester/Anwendung der KI/Project/.env/lib/python3.12/site-packages/keras/src/layers/rnn/rnn.py:200: UserWarning: Do not pass an `input_shape`/`input_dim` argument to a layer. When using Sequential models, prefer using an `Input(shape)` object as the first layer in the model instead.\n",
      "  super().__init__(**kwargs)\n"
     ]
    }
   ],
   "source": [
    "model = Sequential()\n",
    "model.add(LSTM(hiddenUnits, return_sequences=stackLSTM, input_shape=(timestep_length, input_dim)))\n",
    "if stackLSTM:\n",
    "    model.add(Dropout(dropout))\n",
    "    model.add(LSTM(hiddenUnits))\n",
    "model.add(Dropout(dropout))\n",
    "model.add(Dense(output_dim, activation='softmax'))"
   ]
  },
  {
   "cell_type": "markdown",
   "metadata": {},
   "source": [
    "## Train"
   ]
  },
  {
   "cell_type": "code",
   "execution_count": 27,
   "metadata": {},
   "outputs": [
    {
     "name": "stdout",
     "output_type": "stream",
     "text": [
      "Epoch 1/100\n",
      "1/1 - 4s - 4s/step - loss: 1.1706 - val_loss: 1.1270\n",
      "Epoch 2/100\n",
      "1/1 - 0s - 159ms/step - loss: 1.1703 - val_loss: 1.1249\n",
      "Epoch 3/100\n",
      "1/1 - 0s - 169ms/step - loss: 1.1514 - val_loss: 1.1232\n",
      "Epoch 4/100\n",
      "1/1 - 0s - 153ms/step - loss: 1.1432 - val_loss: 1.1218\n",
      "Epoch 5/100\n",
      "1/1 - 0s - 151ms/step - loss: 1.1371 - val_loss: 1.1205\n",
      "Epoch 6/100\n",
      "1/1 - 0s - 129ms/step - loss: 1.1324 - val_loss: 1.1195\n",
      "Epoch 7/100\n",
      "1/1 - 0s - 123ms/step - loss: 1.1210 - val_loss: 1.1185\n",
      "Epoch 8/100\n",
      "1/1 - 0s - 115ms/step - loss: 1.1188 - val_loss: 1.1176\n",
      "Epoch 9/100\n",
      "1/1 - 0s - 115ms/step - loss: 1.1017 - val_loss: 1.1170\n",
      "Epoch 10/100\n",
      "1/1 - 0s - 118ms/step - loss: 1.1051 - val_loss: 1.1161\n",
      "Epoch 11/100\n",
      "1/1 - 0s - 106ms/step - loss: 1.0895 - val_loss: 1.1155\n",
      "Epoch 12/100\n",
      "1/1 - 0s - 110ms/step - loss: 1.0923 - val_loss: 1.1149\n",
      "Epoch 13/100\n",
      "1/1 - 0s - 111ms/step - loss: 1.0909 - val_loss: 1.1143\n",
      "Epoch 14/100\n",
      "1/1 - 0s - 114ms/step - loss: 1.0875 - val_loss: 1.1138\n",
      "Epoch 15/100\n",
      "1/1 - 0s - 111ms/step - loss: 1.0799 - val_loss: 1.1133\n",
      "Epoch 16/100\n",
      "1/1 - 0s - 111ms/step - loss: 1.0732 - val_loss: 1.1128\n",
      "Epoch 17/100\n",
      "1/1 - 0s - 110ms/step - loss: 1.0750 - val_loss: 1.1124\n",
      "Epoch 18/100\n",
      "1/1 - 0s - 100ms/step - loss: 1.0724 - val_loss: 1.1119\n",
      "Epoch 19/100\n",
      "1/1 - 0s - 98ms/step - loss: 1.0709 - val_loss: 1.1114\n",
      "Epoch 20/100\n",
      "1/1 - 0s - 103ms/step - loss: 1.0535 - val_loss: 1.1114\n",
      "Epoch 21/100\n",
      "1/1 - 0s - 105ms/step - loss: 1.0687 - val_loss: 1.1110\n",
      "Epoch 22/100\n",
      "1/1 - 0s - 114ms/step - loss: 1.0437 - val_loss: 1.1109\n",
      "Epoch 23/100\n",
      "1/1 - 0s - 122ms/step - loss: 1.0496 - val_loss: 1.1107\n",
      "Epoch 24/100\n",
      "1/1 - 0s - 108ms/step - loss: 1.0533 - val_loss: 1.1104\n",
      "Epoch 25/100\n",
      "1/1 - 0s - 116ms/step - loss: 1.0487 - val_loss: 1.1102\n",
      "Epoch 26/100\n",
      "1/1 - 0s - 105ms/step - loss: 1.0510 - val_loss: 1.1098\n",
      "Epoch 27/100\n",
      "1/1 - 0s - 107ms/step - loss: 1.0247 - val_loss: 1.1099\n",
      "Epoch 28/100\n",
      "1/1 - 0s - 121ms/step - loss: 1.0300 - val_loss: 1.1097\n",
      "Epoch 29/100\n",
      "1/1 - 0s - 114ms/step - loss: 1.0239 - val_loss: 1.1099\n",
      "Epoch 30/100\n",
      "1/1 - 0s - 121ms/step - loss: 1.0173 - val_loss: 1.1097\n",
      "Epoch 31/100\n",
      "1/1 - 0s - 119ms/step - loss: 1.0300 - val_loss: 1.1097\n",
      "Epoch 32/100\n",
      "1/1 - 0s - 121ms/step - loss: 1.0064 - val_loss: 1.1098\n",
      "Epoch 33/100\n",
      "1/1 - 0s - 109ms/step - loss: 1.0041 - val_loss: 1.1099\n",
      "Epoch 34/100\n",
      "1/1 - 0s - 102ms/step - loss: 0.9999 - val_loss: 1.1101\n",
      "Epoch 35/100\n",
      "1/1 - 0s - 104ms/step - loss: 0.9929 - val_loss: 1.1106\n",
      "Epoch 36/100\n",
      "1/1 - 0s - 107ms/step - loss: 1.0156 - val_loss: 1.1103\n",
      "Epoch 37/100\n",
      "1/1 - 0s - 109ms/step - loss: 0.9832 - val_loss: 1.1108\n",
      "Epoch 38/100\n",
      "1/1 - 0s - 110ms/step - loss: 0.9991 - val_loss: 1.1111\n",
      "Epoch 39/100\n",
      "1/1 - 0s - 158ms/step - loss: 0.9885 - val_loss: 1.1112\n",
      "Epoch 40/100\n",
      "1/1 - 0s - 128ms/step - loss: 0.9740 - val_loss: 1.1117\n",
      "Epoch 41/100\n",
      "1/1 - 0s - 109ms/step - loss: 0.9660 - val_loss: 1.1124\n",
      "Epoch 42/100\n",
      "1/1 - 0s - 102ms/step - loss: 0.9605 - val_loss: 1.1132\n",
      "Epoch 43/100\n",
      "1/1 - 0s - 110ms/step - loss: 0.9860 - val_loss: 1.1135\n",
      "Epoch 44/100\n",
      "1/1 - 0s - 106ms/step - loss: 0.9812 - val_loss: 1.1140\n",
      "Epoch 45/100\n",
      "1/1 - 0s - 100ms/step - loss: 0.9754 - val_loss: 1.1143\n",
      "Epoch 46/100\n",
      "1/1 - 0s - 107ms/step - loss: 0.9537 - val_loss: 1.1148\n",
      "Epoch 47/100\n",
      "1/1 - 0s - 110ms/step - loss: 0.9643 - val_loss: 1.1155\n",
      "Epoch 48/100\n",
      "1/1 - 0s - 106ms/step - loss: 0.9308 - val_loss: 1.1165\n",
      "Epoch 49/100\n",
      "1/1 - 0s - 106ms/step - loss: 0.9627 - val_loss: 1.1172\n",
      "Epoch 50/100\n",
      "1/1 - 0s - 99ms/step - loss: 0.9407 - val_loss: 1.1178\n",
      "Epoch 51/100\n",
      "1/1 - 0s - 104ms/step - loss: 0.9147 - val_loss: 1.1192\n",
      "Epoch 52/100\n",
      "1/1 - 0s - 98ms/step - loss: 0.9251 - val_loss: 1.1202\n",
      "Epoch 53/100\n",
      "1/1 - 0s - 104ms/step - loss: 0.9324 - val_loss: 1.1211\n",
      "Epoch 54/100\n",
      "1/1 - 0s - 105ms/step - loss: 0.9265 - val_loss: 1.1223\n",
      "Epoch 55/100\n",
      "1/1 - 0s - 127ms/step - loss: 0.9363 - val_loss: 1.1234\n",
      "Epoch 56/100\n",
      "1/1 - 0s - 98ms/step - loss: 0.9230 - val_loss: 1.1247\n",
      "Epoch 57/100\n",
      "1/1 - 0s - 98ms/step - loss: 0.9164 - val_loss: 1.1261\n",
      "Epoch 58/100\n",
      "1/1 - 0s - 98ms/step - loss: 0.9105 - val_loss: 1.1276\n",
      "Epoch 59/100\n",
      "1/1 - 0s - 99ms/step - loss: 0.9072 - val_loss: 1.1287\n",
      "Epoch 60/100\n",
      "1/1 - 0s - 102ms/step - loss: 0.8948 - val_loss: 1.1306\n",
      "Epoch 61/100\n",
      "1/1 - 0s - 106ms/step - loss: 0.9224 - val_loss: 1.1319\n",
      "Epoch 62/100\n",
      "1/1 - 0s - 121ms/step - loss: 0.8799 - val_loss: 1.1337\n",
      "Epoch 63/100\n",
      "1/1 - 0s - 96ms/step - loss: 0.8738 - val_loss: 1.1358\n",
      "Epoch 64/100\n",
      "1/1 - 0s - 103ms/step - loss: 0.8738 - val_loss: 1.1382\n",
      "Epoch 65/100\n",
      "1/1 - 0s - 99ms/step - loss: 0.8776 - val_loss: 1.1403\n",
      "Epoch 66/100\n",
      "1/1 - 0s - 101ms/step - loss: 0.8648 - val_loss: 1.1422\n",
      "Epoch 67/100\n",
      "1/1 - 0s - 105ms/step - loss: 0.8702 - val_loss: 1.1448\n",
      "Epoch 68/100\n",
      "1/1 - 0s - 104ms/step - loss: 0.8674 - val_loss: 1.1464\n",
      "Epoch 69/100\n",
      "1/1 - 0s - 113ms/step - loss: 0.8795 - val_loss: 1.1482\n",
      "Epoch 70/100\n",
      "1/1 - 0s - 128ms/step - loss: 0.8784 - val_loss: 1.1501\n",
      "Epoch 71/100\n",
      "1/1 - 0s - 135ms/step - loss: 0.8310 - val_loss: 1.1538\n",
      "Epoch 72/100\n",
      "1/1 - 0s - 103ms/step - loss: 0.8458 - val_loss: 1.1568\n",
      "Epoch 73/100\n",
      "1/1 - 0s - 102ms/step - loss: 0.8285 - val_loss: 1.1592\n",
      "Epoch 74/100\n",
      "1/1 - 0s - 99ms/step - loss: 0.8470 - val_loss: 1.1621\n",
      "Epoch 75/100\n",
      "1/1 - 0s - 100ms/step - loss: 0.8630 - val_loss: 1.1636\n",
      "Epoch 76/100\n",
      "1/1 - 0s - 105ms/step - loss: 0.8341 - val_loss: 1.1666\n",
      "Epoch 77/100\n",
      "1/1 - 0s - 112ms/step - loss: 0.8310 - val_loss: 1.1694\n",
      "Epoch 78/100\n",
      "1/1 - 0s - 107ms/step - loss: 0.8700 - val_loss: 1.1708\n",
      "Epoch 79/100\n",
      "1/1 - 0s - 101ms/step - loss: 0.8246 - val_loss: 1.1736\n",
      "Epoch 80/100\n",
      "1/1 - 0s - 106ms/step - loss: 0.8502 - val_loss: 1.1760\n",
      "Epoch 81/100\n",
      "1/1 - 0s - 126ms/step - loss: 0.8540 - val_loss: 1.1785\n",
      "Epoch 82/100\n",
      "1/1 - 0s - 151ms/step - loss: 0.8536 - val_loss: 1.1808\n",
      "Epoch 83/100\n",
      "1/1 - 0s - 118ms/step - loss: 0.8372 - val_loss: 1.1821\n",
      "Epoch 84/100\n",
      "1/1 - 0s - 128ms/step - loss: 0.8012 - val_loss: 1.1859\n",
      "Epoch 85/100\n",
      "1/1 - 0s - 113ms/step - loss: 0.8271 - val_loss: 1.1885\n",
      "Epoch 86/100\n",
      "1/1 - 0s - 112ms/step - loss: 0.7952 - val_loss: 1.1921\n",
      "Epoch 87/100\n",
      "1/1 - 0s - 104ms/step - loss: 0.8059 - val_loss: 1.1955\n",
      "Epoch 88/100\n",
      "1/1 - 0s - 108ms/step - loss: 0.8183 - val_loss: 1.1974\n",
      "Epoch 89/100\n",
      "1/1 - 0s - 111ms/step - loss: 0.7755 - val_loss: 1.2013\n",
      "Epoch 90/100\n",
      "1/1 - 0s - 107ms/step - loss: 0.7592 - val_loss: 1.2065\n",
      "Epoch 91/100\n",
      "1/1 - 0s - 101ms/step - loss: 0.7997 - val_loss: 1.2084\n",
      "Epoch 92/100\n",
      "1/1 - 0s - 107ms/step - loss: 0.7755 - val_loss: 1.2120\n",
      "Epoch 93/100\n",
      "1/1 - 0s - 107ms/step - loss: 0.7648 - val_loss: 1.2170\n",
      "Epoch 94/100\n",
      "1/1 - 0s - 104ms/step - loss: 0.7578 - val_loss: 1.2239\n",
      "Epoch 95/100\n",
      "1/1 - 0s - 99ms/step - loss: 0.8080 - val_loss: 1.2268\n",
      "Epoch 96/100\n",
      "1/1 - 0s - 98ms/step - loss: 0.7233 - val_loss: 1.2352\n",
      "Epoch 97/100\n",
      "1/1 - 0s - 103ms/step - loss: 0.7927 - val_loss: 1.2373\n",
      "Epoch 98/100\n",
      "1/1 - 0s - 97ms/step - loss: 0.8187 - val_loss: 1.2367\n",
      "Epoch 99/100\n",
      "1/1 - 0s - 98ms/step - loss: 0.8046 - val_loss: 1.2357\n",
      "Epoch 100/100\n",
      "1/1 - 0s - 99ms/step - loss: 0.7465 - val_loss: 1.2405\n"
     ]
    },
    {
     "data": {
      "text/plain": [
       "<keras.src.callbacks.history.History at 0x76e9e1ec7c20>"
      ]
     },
     "execution_count": 27,
     "metadata": {},
     "output_type": "execute_result"
    }
   ],
   "source": [
    "now = datetime.datetime.now().strftime(\"%Y%m%d-%H%M%S\")\n",
    "tbCallBack = TensorBoard(log_dir='./logs/' + now, histogram_freq=1, write_graph=True, write_images=False)\n",
    "\n",
    "showProgress = 0\n",
    "if verbose: \n",
    "    showProgress = 2\n",
    "\n",
    "model.compile(loss='categorical_crossentropy')\n",
    "model.fit(\n",
    "    X_train,\n",
    "    y_train,\n",
    "    epochs=100,\n",
    "    batch_size=32,\n",
    "    verbose=showProgress,\n",
    "    validation_split=0.2,\n",
    "    callbacks=[tbCallBack]\n",
    ")\n"
   ]
  },
  {
   "cell_type": "markdown",
   "metadata": {},
   "source": [
    "## Evaluate the Model"
   ]
  },
  {
   "cell_type": "code",
   "execution_count": 28,
   "metadata": {},
   "outputs": [
    {
     "name": "stdout",
     "output_type": "stream",
     "text": [
      "\u001b[1m1/1\u001b[0m \u001b[32m━━━━━━━━━━━━━━━━━━━━\u001b[0m\u001b[37m\u001b[0m \u001b[1m0s\u001b[0m 41ms/step - loss: 1.0587\n",
      "1.0586860179901123\n"
     ]
    }
   ],
   "source": [
    "loss = model.evaluate(X_test, y_test)\n",
    "print(loss)"
   ]
  },
  {
   "cell_type": "markdown",
   "metadata": {},
   "source": [
    "## Predict the Next Move"
   ]
  },
  {
   "cell_type": "code",
   "execution_count": 29,
   "metadata": {},
   "outputs": [
    {
     "name": "stdout",
     "output_type": "stream",
     "text": [
      "\u001b[1m1/1\u001b[0m \u001b[32m━━━━━━━━━━━━━━━━━━━━\u001b[0m\u001b[37m\u001b[0m \u001b[1m0s\u001b[0m 189ms/step\n",
      "Predicted next move: S\n"
     ]
    }
   ],
   "source": [
    "new_moves = np.array([[[label_encoder.transform(['R'])[0], label_encoder.transform(['P'])[0]],\n",
    "                       [label_encoder.transform(['P'])[0], label_encoder.transform(['R'])[0]],\n",
    "                       [label_encoder.transform(['S'])[0], label_encoder.transform(['S'])[0]]]])  # Replace with actual new moves\n",
    "predicted_move = model.predict(new_moves)\n",
    "predicted_move = label_encoder.inverse_transform([np.argmax(predicted_move)])\n",
    "print(f'Predicted next move: {predicted_move[0]}')"
   ]
  },
  {
   "cell_type": "markdown",
   "metadata": {},
   "source": [
    "## Determine the counter move for the computer"
   ]
  },
  {
   "cell_type": "markdown",
   "metadata": {},
   "source": [
    "### Function Implementation"
   ]
  },
  {
   "cell_type": "code",
   "execution_count": 30,
   "metadata": {},
   "outputs": [],
   "source": [
    "def counter_move(player_move):\n",
    "    if player_move == 'R':\n",
    "        return 'P'  # Paper beats Rock\n",
    "    elif player_move == 'P':\n",
    "        return 'S'  # Scissors beats Paper\n",
    "    elif player_move == 'S':\n",
    "        return 'R'  # Rock beats Scissors"
   ]
  },
  {
   "cell_type": "markdown",
   "metadata": {},
   "source": [
    "### Function Call"
   ]
  },
  {
   "cell_type": "code",
   "execution_count": 31,
   "metadata": {},
   "outputs": [
    {
     "name": "stdout",
     "output_type": "stream",
     "text": [
      "Computer should play: R\n"
     ]
    }
   ],
   "source": [
    "computer_move = counter_move(predicted_move[0])\n",
    "print(f'Computer should play: {computer_move}')"
   ]
  }
 ],
 "metadata": {
  "kernelspec": {
   "display_name": ".env",
   "language": "python",
   "name": "python3"
  },
  "language_info": {
   "codemirror_mode": {
    "name": "ipython",
    "version": 3
   },
   "file_extension": ".py",
   "mimetype": "text/x-python",
   "name": "python",
   "nbconvert_exporter": "python",
   "pygments_lexer": "ipython3",
   "version": "3.12.3"
  }
 },
 "nbformat": 4,
 "nbformat_minor": 2
}
